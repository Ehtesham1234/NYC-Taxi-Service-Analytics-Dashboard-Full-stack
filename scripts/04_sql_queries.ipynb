{
 "cells": [
  {
   "cell_type": "code",
   "execution_count": 1,
   "id": "940dda3f-c397-4066-882b-4ef6093a29c3",
   "metadata": {},
   "outputs": [
    {
     "name": "stdout",
     "output_type": "stream",
     "text": [
      "✅ Database engine created. Ready to execute SQL queries.\n"
     ]
    }
   ],
   "source": [
    "import pandas as pd\n",
    "from sqlalchemy import create_engine, text\n",
    "\n",
    "# --- Configuration (Ensure these match your previous setup) ---\n",
    "DB_USER = \"postgres\"\n",
    "DB_PASS = \"etes1209111\"      # Use your confirmed password\n",
    "DB_HOST = \"127.0.0.1\"    \n",
    "DB_PORT = \"5432\"\n",
    "DB_NAME = \"nyc_taxi\"\n",
    "TABLE_NAME = \"taxi_trips\"\n",
    "\n",
    "# SQLAlchemy Connection String\n",
    "DATABASE_URL = f\"postgresql://{DB_USER}:{DB_PASS}@{DB_HOST}:{DB_PORT}/{DB_NAME}\"\n",
    "engine = create_engine(DATABASE_URL)\n",
    "\n",
    "print(\"✅ Database engine created. Ready to execute SQL queries.\")"
   ]
  },
  {
   "cell_type": "code",
   "execution_count": 2,
   "id": "870b1032-48bc-433a-a205-b5d57cbb944b",
   "metadata": {},
   "outputs": [],
   "source": [
    "def run_query(sql_query):\n",
    "    \"\"\"Executes a given SQL query and returns the results as a Pandas DataFrame.\"\"\"\n",
    "    try:\n",
    "        with engine.connect() as connection:\n",
    "            df = pd.read_sql(sql_query, connection)\n",
    "            print(f\"Query executed successfully. Rows returned: {len(df):,}\")\n",
    "            return df\n",
    "    except Exception as e:\n",
    "        print(f\"❌ ERROR executing query:\\n{e}\")\n",
    "        return None"
   ]
  },
  {
   "cell_type": "code",
   "execution_count": 3,
   "id": "b114ffa8-5b57-4372-9c9a-539c1126d24c",
   "metadata": {},
   "outputs": [
    {
     "name": "stdout",
     "output_type": "stream",
     "text": [
      "Query executed successfully. Rows returned: 10\n",
      "\n",
      "--- Monthly Trip Volume ---\n",
      "  trip_month  total_trips  avg_fare\n",
      "0    2002-12            2     58.63\n",
      "1    2003-01            2     95.40\n",
      "2    2008-12            4     35.44\n",
      "3    2009-01            1     16.40\n",
      "4    2022-10            3     12.97\n",
      "5    2022-12           24     26.99\n",
      "6    2023-01      2873090     27.33\n",
      "7    2023-02      2722079     27.27\n",
      "8    2023-03      3177665     28.19\n",
      "9    2023-04           83     25.84\n"
     ]
    }
   ],
   "source": [
    "# Q1: Monthly Trip Volume\n",
    "monthly_volume_query = \"\"\"\n",
    "SELECT\n",
    "    TO_CHAR(tpep_pickup_datetime, 'YYYY-MM') AS trip_month,\n",
    "    COUNT(*) AS total_trips,\n",
    "    ROUND(AVG(total_amount)::numeric, 2) AS avg_fare\n",
    "FROM\n",
    "    taxi_trips\n",
    "GROUP BY\n",
    "    trip_month\n",
    "ORDER BY\n",
    "    trip_month;\n",
    "\"\"\"\n",
    "\n",
    "df_monthly_volume = run_query(monthly_volume_query)\n",
    "if df_monthly_volume is not None:\n",
    "    print(\"\\n--- Monthly Trip Volume ---\")\n",
    "    print(df_monthly_volume)"
   ]
  },
  {
   "cell_type": "code",
   "execution_count": 4,
   "id": "2e043008-00c9-4001-a0f1-fb2d3c0f4fce",
   "metadata": {},
   "outputs": [
    {
     "name": "stdout",
     "output_type": "stream",
     "text": [
      "Query executed successfully. Rows returned: 5\n",
      "\n",
      "--- Top 5 Peak Pickup Hours ---\n",
      "   pickup_hour  total_trips\n",
      "0           18       629354\n",
      "1           17       601376\n",
      "2           19       564204\n",
      "3           16       552451\n",
      "4           15       550848\n"
     ]
    }
   ],
   "source": [
    "# Q2: Peak Hour Analysis\n",
    "peak_hour_query = \"\"\"\n",
    "SELECT\n",
    "    pickup_hour,\n",
    "    COUNT(*) AS total_trips\n",
    "FROM\n",
    "    taxi_trips\n",
    "GROUP BY\n",
    "    pickup_hour\n",
    "ORDER BY\n",
    "    total_trips DESC\n",
    "LIMIT 5;\n",
    "\"\"\"\n",
    "\n",
    "df_peak_hours = run_query(peak_hour_query)\n",
    "if df_peak_hours is not None:\n",
    "    print(\"\\n--- Top 5 Peak Pickup Hours ---\")\n",
    "    print(df_peak_hours)"
   ]
  },
  {
   "cell_type": "code",
   "execution_count": 5,
   "id": "474b691c-1af9-4d43-92bf-584521221b8d",
   "metadata": {},
   "outputs": [
    {
     "name": "stdout",
     "output_type": "stream",
     "text": [
      "Query executed successfully. Rows returned: 2\n",
      "\n",
      "--- Weather Impact on Trips ---\n",
      "  weather_condition  total_trips  avg_trip_duration_mins  avg_total_fare\n",
      "0           Dry Day      5140542                   15.03           27.71\n",
      "1         Rainy Day      3632411                   15.06           27.50\n"
     ]
    }
   ],
   "source": [
    "# Q3: Weather Impact Analysis\n",
    "weather_impact_query = \"\"\"\n",
    "SELECT\n",
    "    CASE \n",
    "        WHEN rain_day = 1 THEN 'Rainy Day'\n",
    "        ELSE 'Dry Day'\n",
    "    END AS weather_condition,\n",
    "    COUNT(*) AS total_trips,\n",
    "    ROUND(AVG(trip_duration)::numeric, 2) AS avg_trip_duration_mins,\n",
    "    ROUND(AVG(total_amount)::numeric, 2) AS avg_total_fare\n",
    "FROM\n",
    "    taxi_trips\n",
    "GROUP BY\n",
    "    weather_condition;\n",
    "\"\"\"\n",
    "\n",
    "df_weather_impact = run_query(weather_impact_query)\n",
    "if df_weather_impact is not None:\n",
    "    print(\"\\n--- Weather Impact on Trips ---\")\n",
    "    print(df_weather_impact)"
   ]
  },
  {
   "cell_type": "code",
   "execution_count": null,
   "id": "4b5107ec-9388-4149-b1b8-c83ea89cda01",
   "metadata": {},
   "outputs": [],
   "source": []
  }
 ],
 "metadata": {
  "kernelspec": {
   "display_name": "Python 3 (ipykernel)",
   "language": "python",
   "name": "python3"
  },
  "language_info": {
   "codemirror_mode": {
    "name": "ipython",
    "version": 3
   },
   "file_extension": ".py",
   "mimetype": "text/x-python",
   "name": "python",
   "nbconvert_exporter": "python",
   "pygments_lexer": "ipython3",
   "version": "3.13.5"
  }
 },
 "nbformat": 4,
 "nbformat_minor": 5
}
