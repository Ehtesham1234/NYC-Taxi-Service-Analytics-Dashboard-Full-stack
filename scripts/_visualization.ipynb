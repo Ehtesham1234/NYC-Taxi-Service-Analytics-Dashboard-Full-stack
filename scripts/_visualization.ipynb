{
 "cells": [
  {
   "cell_type": "code",
   "execution_count": null,
   "id": "f663af34-e14d-4ec8-8c24-29c9035142e9",
   "metadata": {
    "jupyter": {
     "source_hidden": true
    }
   },
   "outputs": [],
   "source": []
  },
  {
   "cell_type": "code",
   "execution_count": null,
   "id": "c20cc405-1e1c-4502-93b9-9fa82d1454d4",
   "metadata": {},
   "outputs": [],
   "source": [
    "monthly_volume_query = \"\"\"\n",
    "SELECT\n",
    "    TO_CHAR(tpep_pickup_datetime, 'YYYY-MM') AS trip_month,\n",
    "    COUNT(*) AS total_trips\n",
    "FROM\n",
    "    taxi_trips\n",
    "GROUP BY\n",
    "    1\n",
    "ORDER BY\n",
    "    1;\n",
    "\"\"\"\n",
    "df_monthly_volume = run_query(monthly_volume_query)\n",
    "# Plot df_monthly_volume: Bar chart showing 'total_trips' by 'trip_month'"
   ]
  },
  {
   "cell_type": "code",
   "execution_count": null,
   "id": "8d0b718e-2417-4e97-b103-30984abead59",
   "metadata": {},
   "outputs": [],
   "source": [
    "hourly_volume_query = \"\"\"\n",
    "SELECT\n",
    "    pickup_hour,\n",
    "    COUNT(*) AS total_trips\n",
    "FROM\n",
    "    taxi_trips\n",
    "GROUP BY\n",
    "    1\n",
    "ORDER BY\n",
    "    1;\n",
    "\"\"\"\n",
    "df_hourly_volume = run_query(hourly_volume_query)\n",
    "# Plot df_hourly_volume: Line chart showing 'total_trips' across 'pickup_hour' (0 to 23)"
   ]
  },
  {
   "cell_type": "code",
   "execution_count": null,
   "id": "0ce2c82d-75c3-4e91-a95e-c493916ac9c7",
   "metadata": {},
   "outputs": [],
   "source": [
    "weather_duration_query = \"\"\"\n",
    "SELECT\n",
    "    CASE \n",
    "        WHEN rain_day = 1 THEN 'Rainy Day'\n",
    "        ELSE 'Dry Day'\n",
    "    END AS weather_condition,\n",
    "    ROUND(AVG(trip_duration)::numeric, 2) AS avg_trip_duration_mins\n",
    "FROM\n",
    "    taxi_trips\n",
    "GROUP BY\n",
    "    1;\n",
    "\"\"\"\n",
    "df_weather_duration = run_query(weather_duration_query)\n",
    "# Plot df_weather_duration: Bar chart comparing 'avg_trip_duration_mins' for Rainy vs. Dry days."
   ]
  }
 ],
 "metadata": {
  "kernelspec": {
   "display_name": "Python 3 (ipykernel)",
   "language": "python",
   "name": "python3"
  },
  "language_info": {
   "codemirror_mode": {
    "name": "ipython",
    "version": 3
   },
   "file_extension": ".py",
   "mimetype": "text/x-python",
   "name": "python",
   "nbconvert_exporter": "python",
   "pygments_lexer": "ipython3",
   "version": "3.13.5"
  }
 },
 "nbformat": 4,
 "nbformat_minor": 5
}
