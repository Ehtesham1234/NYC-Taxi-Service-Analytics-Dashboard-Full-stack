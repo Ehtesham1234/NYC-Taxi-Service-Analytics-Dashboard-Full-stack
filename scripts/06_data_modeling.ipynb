{
 "cells": [
  {
   "cell_type": "code",
   "execution_count": 6,
   "id": "e85a5bc2-c9d3-42e7-a735-81804ce4dfd4",
   "metadata": {},
   "outputs": [
    {
     "name": "stdout",
     "output_type": "stream",
     "text": [
      "✅ Database engine created. Ready to execute SQL queries.\n"
     ]
    }
   ],
   "source": [
    "import pandas as pd\n",
    "from sqlalchemy import create_engine, text\n",
    "\n",
    "# --- Configuration (Ensure these match your previous setup) ---\n",
    "DB_USER = \"postgres\"\n",
    "DB_PASS = \"etes1209111\"      # Use your confirmed password\n",
    "DB_HOST = \"127.0.0.1\"    \n",
    "DB_PORT = \"5432\"\n",
    "DB_NAME = \"nyc_taxi\"\n",
    "TABLE_NAME = \"taxi_trips\"\n",
    "\n",
    "# SQLAlchemy Connection String\n",
    "DATABASE_URL = f\"postgresql://{DB_USER}:{DB_PASS}@{DB_HOST}:{DB_PORT}/{DB_NAME}\"\n",
    "engine = create_engine(DATABASE_URL)\n",
    "\n",
    "print(\"✅ Database engine created. Ready to execute SQL queries.\")"
   ]
  },
  {
   "cell_type": "code",
   "execution_count": 7,
   "id": "0725cf0e-e454-4283-a47f-fe3aaed7401e",
   "metadata": {},
   "outputs": [
    {
     "name": "stdout",
     "output_type": "stream",
     "text": [
      "Defining SQL for Dim_Weather...\n"
     ]
    }
   ],
   "source": [
    "# A. Create Dim_Weather table\n",
    "sql_create_dim_weather = f\"\"\"\n",
    "DROP TABLE IF EXISTS dim_weather;\n",
    "CREATE TABLE dim_weather AS\n",
    "SELECT DISTINCT\n",
    "    pickup_date AS weather_key, -- Date is the unique primary key\n",
    "    max_temp,\n",
    "    min_temp,\n",
    "    precipitation,\n",
    "    rain_day\n",
    "FROM\n",
    "    {TABLE_NAME};\n",
    "\n",
    "ALTER TABLE dim_weather ADD PRIMARY KEY (weather_key);\n",
    "\"\"\"\n",
    "print(\"Defining SQL for Dim_Weather...\")"
   ]
  },
  {
   "cell_type": "code",
   "execution_count": 8,
   "id": "b6ea5076-df7b-40c1-af55-60b303a73ced",
   "metadata": {},
   "outputs": [
    {
     "name": "stdout",
     "output_type": "stream",
     "text": [
      "Defining SQL for Dim_Date...\n"
     ]
    }
   ],
   "source": [
    "# B. Create Dim_Date table\n",
    "sql_create_dim_date = f\"\"\"\n",
    "DROP TABLE IF EXISTS dim_date;\n",
    "CREATE TABLE dim_date AS\n",
    "SELECT DISTINCT\n",
    "    pickup_date AS date_key,\n",
    "    EXTRACT(YEAR FROM pickup_date) AS calendar_year,\n",
    "    EXTRACT(MONTH FROM pickup_date) AS month_num,\n",
    "    TO_CHAR(pickup_date, 'Month') AS month_name,\n",
    "    EXTRACT(WEEK FROM pickup_date) AS week_num,\n",
    "    CASE WHEN EXTRACT(DOW FROM pickup_date) IN (0, 6) THEN 'Weekend' ELSE 'Weekday' END AS is_weekend,\n",
    "    pickup_dayofweek\n",
    "FROM\n",
    "    {TABLE_NAME};\n",
    "\n",
    "ALTER TABLE dim_date ADD PRIMARY KEY (date_key);\n",
    "\"\"\"\n",
    "print(\"Defining SQL for Dim_Date...\")"
   ]
  },
  {
   "cell_type": "code",
   "execution_count": 9,
   "id": "ba86b815-f1cd-4eb1-8ccd-e9b8577c2589",
   "metadata": {},
   "outputs": [
    {
     "name": "stdout",
     "output_type": "stream",
     "text": [
      "Executing Dim_Weather creation...\n",
      "Executing Dim_Date creation...\n",
      "✅ Dimension tables (dim_weather, dim_date) created successfully.\n"
     ]
    }
   ],
   "source": [
    "with engine.connect() as connection:\n",
    "    print(\"Executing Dim_Weather creation...\")\n",
    "    connection.execute(text(sql_create_dim_weather))\n",
    "    \n",
    "    print(\"Executing Dim_Date creation...\")\n",
    "    connection.execute(text(sql_create_dim_date))\n",
    "    \n",
    "    connection.commit()\n",
    "    print(\"✅ Dimension tables (dim_weather, dim_date) created successfully.\")"
   ]
  },
  {
   "cell_type": "code",
   "execution_count": 10,
   "id": "9b4e7eac-9b92-4aa3-b30e-fa949c2d3e69",
   "metadata": {},
   "outputs": [
    {
     "name": "stdout",
     "output_type": "stream",
     "text": [
      "Executing Fact table creation...\n",
      "✅ Fact table (fact_taxi_trips) created and indexed successfully.\n"
     ]
    }
   ],
   "source": [
    "# C. Create the Fact Table\n",
    "sql_create_fact_table = f\"\"\"\n",
    "DROP TABLE IF EXISTS fact_taxi_trips;\n",
    "CREATE TABLE fact_taxi_trips AS\n",
    "SELECT\n",
    "    tpep_pickup_datetime,\n",
    "    tpep_dropoff_datetime,\n",
    "    pickup_date AS date_key,      -- Key to link to dim_date and dim_weather\n",
    "    pulocationid,                 -- Key (assumed) to link to Dim_Location\n",
    "    dolocationid,                 -- Key (assumed) to link to Dim_Location\n",
    "    payment_type,                 -- Key to link to Dim_Payment\n",
    "    \n",
    "    -- Metrics (The measurable values)\n",
    "    passenger_count,\n",
    "    trip_distance,\n",
    "    fare_amount,\n",
    "    tip_amount,\n",
    "    total_amount,\n",
    "    congestion_surcharge,\n",
    "    airport_fee,\n",
    "    trip_duration\n",
    "FROM\n",
    "    {TABLE_NAME};\n",
    "\n",
    "-- Add an index on the date_key for faster joins in Power BI\n",
    "CREATE INDEX idx_fact_date ON fact_taxi_trips (date_key);\n",
    "\"\"\"\n",
    "\n",
    "with engine.connect() as connection:\n",
    "    print(\"Executing Fact table creation...\")\n",
    "    connection.execute(text(sql_create_fact_table))\n",
    "    connection.commit()\n",
    "    print(\"✅ Fact table (fact_taxi_trips) created and indexed successfully.\")"
   ]
  },
  {
   "cell_type": "code",
   "execution_count": null,
   "id": "d9d70a0c-602c-4067-b2da-3c1ca96be2cf",
   "metadata": {},
   "outputs": [],
   "source": []
  }
 ],
 "metadata": {
  "kernelspec": {
   "display_name": "Python 3 (ipykernel)",
   "language": "python",
   "name": "python3"
  },
  "language_info": {
   "codemirror_mode": {
    "name": "ipython",
    "version": 3
   },
   "file_extension": ".py",
   "mimetype": "text/x-python",
   "name": "python",
   "nbconvert_exporter": "python",
   "pygments_lexer": "ipython3",
   "version": "3.13.5"
  }
 },
 "nbformat": 4,
 "nbformat_minor": 5
}
