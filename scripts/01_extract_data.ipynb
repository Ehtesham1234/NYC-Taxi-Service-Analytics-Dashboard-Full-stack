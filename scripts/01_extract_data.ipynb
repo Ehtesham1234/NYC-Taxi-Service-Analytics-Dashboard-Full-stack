{
 "cells": [
  {
   "cell_type": "code",
   "execution_count": 1,
   "id": "44413700-6ebe-43f0-bfd1-a9bf4720c853",
   "metadata": {},
   "outputs": [],
   "source": [
    "\n",
    "import pandas as pd\n",
    "import requests\n",
    "import geopandas as gpd\n",
    "import os\n",
    "from io import BytesIO\n",
    "from io import StringIO\n",
    "import osmnx as ox\n",
    "import os\n",
    "\n"
   ]
  },
  {
   "cell_type": "markdown",
   "id": "efdb75de-27fe-47df-b8b5-e3dfd6345b93",
   "metadata": {},
   "source": [
    "# -----------------------------\n",
    "# 1️⃣ Setup directories\n",
    "# -----------------------------"
   ]
  },
  {
   "cell_type": "code",
   "execution_count": 2,
   "id": "82ccb0dc-f1f9-46ea-851e-0bbad9af91d8",
   "metadata": {},
   "outputs": [],
   "source": [
    "BASE_DIR = \"../data_raw\"\n",
    "os.makedirs(BASE_DIR, exist_ok=True)"
   ]
  },
  {
   "cell_type": "markdown",
   "id": "1bbfa8b7-b705-4a9d-86fc-790b179a89a5",
   "metadata": {},
   "source": [
    "# -----------------------------\n",
    "# 2️⃣ Download NYC Taxi Data (3 months)\n",
    "# -----------------------------"
   ]
  },
  {
   "cell_type": "code",
   "execution_count": 3,
   "id": "e20f9262-a3c0-4b3d-9a4b-abab9707050e",
   "metadata": {},
   "outputs": [
    {
     "name": "stdout",
     "output_type": "stream",
     "text": [
      "Downloading 2023-01 data...\n",
      "Saved: yellow_tripdata_2023-01.csv\n",
      "Downloading 2023-02 data...\n",
      "Saved: yellow_tripdata_2023-02.csv\n",
      "Downloading 2023-03 data...\n",
      "Saved: yellow_tripdata_2023-03.csv\n",
      "✅ NYC Taxi Data (3 months) saved.\n"
     ]
    }
   ],
   "source": [
    "months = [\"2023-01\", \"2023-02\", \"2023-03\"]\n",
    "for month in months:\n",
    "    url = f\"https://d37ci6vzurychx.cloudfront.net/trip-data/yellow_tripdata_{month}.parquet\"\n",
    "    print(f\"Downloading {month} data...\")\n",
    "    df = pd.read_parquet(url)\n",
    "    df.to_csv(f\"{BASE_DIR}/yellow_tripdata_{month}.csv\", index=False)\n",
    "    print(f\"Saved: yellow_tripdata_{month}.csv\")\n",
    "\n",
    "print(\"✅ NYC Taxi Data (3 months) saved.\")"
   ]
  },
  {
   "cell_type": "markdown",
   "id": "449c96c6-0061-45cf-bbd3-e94807b99d3b",
   "metadata": {},
   "source": [
    "# -----------------------------\n",
    "# 3️⃣ Download NOAA Weather Data\n",
    "# -----------------------------"
   ]
  },
  {
   "cell_type": "code",
   "execution_count": 5,
   "id": "239c1e1f-0c1d-46e8-bdbc-643e475071d0",
   "metadata": {},
   "outputs": [
    {
     "name": "stdout",
     "output_type": "stream",
     "text": [
      "Downloading NOAA weather data...\n"
     ]
    }
   ],
   "source": [
    "print(\"Downloading NOAA weather data...\")"
   ]
  },
  {
   "cell_type": "code",
   "execution_count": 6,
   "id": "68b6979c-8448-4dae-969c-5e6404e58e62",
   "metadata": {},
   "outputs": [
    {
     "name": "stdout",
     "output_type": "stream",
     "text": [
      "✅ NOAA weather data saved to ../data_raw\\weather_2023_Q1.csv\n"
     ]
    }
   ],
   "source": [
    "# You can get a free NOAA token at https://www.ncdc.noaa.gov/cdo-web/token\n",
    "# NOAA token and output path\n",
    "NOAA_TOKEN = \"RdSCTsvgYWKYdfZKUEnIztHAERKHJxxF\"  # Replace with your actual token\n",
    "BASE_DIR = \"../data_raw\"  # Replace with your desired output directory\n",
    "\n",
    "# NOAA API URL\n",
    "url_weather = (\n",
    "    \"https://www.ncei.noaa.gov/access/services/data/v1?\"\n",
    "    \"dataset=daily-summaries&stations=USW00094728&\"\n",
    "    \"startDate=2023-01-01&endDate=2023-03-31&format=csv&\"\n",
    "    \"dataElements=TMAX,TMIN,PRCP\"\n",
    ")\n",
    "\n",
    "# Make request with token\n",
    "headers = {\"token\": NOAA_TOKEN}\n",
    "response = requests.get(url_weather, headers=headers)\n",
    "response.raise_for_status()  # Raise error if request fails\n",
    "\n",
    "# Convert response to DataFrame\n",
    "weather_df = pd.read_csv(StringIO(response.text))\n",
    "\n",
    "# Ensure output directory exists\n",
    "os.makedirs(BASE_DIR, exist_ok=True)\n",
    "\n",
    "# Save CSV\n",
    "output_path = os.path.join(BASE_DIR, \"weather_2023_Q1.csv\")\n",
    "weather_df.to_csv(output_path, index=False)\n",
    "\n",
    "print(f\"✅ NOAA weather data saved to {output_path}\")"
   ]
  },
  {
   "cell_type": "markdown",
   "id": "71b97c70-cd0c-4cdc-9bf8-a74f29417eac",
   "metadata": {},
   "source": [
    "# -----------------------------\n",
    "# 4️⃣ Download OSM (NYC boundaries)\n",
    "# -----------------------------"
   ]
  },
  {
   "cell_type": "code",
   "execution_count": 7,
   "id": "f915c740-cbef-4f1f-bfb3-1c45cc40f5d9",
   "metadata": {},
   "outputs": [
    {
     "name": "stdout",
     "output_type": "stream",
     "text": [
      "🌍 Downloading NYC boundary using OSMNX...\n",
      "✅ NYC boundary data saved successfully (from OSMNX).\n"
     ]
    },
    {
     "name": "stderr",
     "output_type": "stream",
     "text": [
      "E:\\anaconda\\Lib\\site-packages\\pyogrio\\core.py:35: RuntimeWarning: Could not detect GDAL data files.  Set GDAL_DATA environment variable to the correct path.\n",
      "  _init_gdal_data()\n"
     ]
    }
   ],
   "source": [
    "# print(\"Downloading OSM boundaries for NYC...\")\n",
    "# osm_url = \"https://data.cityofnewyork.us/api/geospatial/7t3b-ywvw?method=export&format=GeoJSON\"\n",
    "# osm_gdf = gpd.read_file(osm_url)\n",
    "# osm_gdf.to_file(f\"{BASE_DIR}/nyc_osm.geojson\", driver='GeoJSON')\n",
    "\n",
    "# print(\"✅ OSM NYC boundary data saved.\")\n",
    "\n",
    "# print(\"🎉 All extraction completed successfully!\")\n",
    "\n",
    "\n",
    "BASE_DIR = \"../data_raw\"\n",
    "os.makedirs(BASE_DIR, exist_ok=True)\n",
    "\n",
    "print(\"🌍 Downloading NYC boundary using OSMNX...\")\n",
    "\n",
    "# Use OSMNX to fetch NYC’s city boundary polygon directly from OpenStreetMap\n",
    "osm_gdf = ox.geocode_to_gdf(\"New York City, New York, USA\")\n",
    "\n",
    "# Save to GeoJSON\n",
    "osm_gdf.to_file(f\"{BASE_DIR}/nyc_osm.geojson\", driver=\"GeoJSON\")\n",
    "\n",
    "print(\"✅ NYC boundary data saved successfully (from OSMNX).\")"
   ]
  },
  {
   "cell_type": "code",
   "execution_count": null,
   "id": "12cc56f0-1247-48c5-a1b7-6b03e44b5596",
   "metadata": {},
   "outputs": [],
   "source": []
  }
 ],
 "metadata": {
  "kernelspec": {
   "display_name": "Python 3 (ipykernel)",
   "language": "python",
   "name": "python3"
  },
  "language_info": {
   "codemirror_mode": {
    "name": "ipython",
    "version": 3
   },
   "file_extension": ".py",
   "mimetype": "text/x-python",
   "name": "python",
   "nbconvert_exporter": "python",
   "pygments_lexer": "ipython3",
   "version": "3.13.5"
  }
 },
 "nbformat": 4,
 "nbformat_minor": 5
}
