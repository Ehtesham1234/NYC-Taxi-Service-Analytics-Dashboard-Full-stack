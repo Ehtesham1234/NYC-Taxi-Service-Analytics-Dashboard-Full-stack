{
 "cells": [
  {
   "cell_type": "code",
   "execution_count": 7,
   "id": "e65b26c3-a50a-4742-ba3a-a99161691c33",
   "metadata": {},
   "outputs": [
    {
     "name": "stdout",
     "output_type": "stream",
     "text": [
      "✅ Database engine created. Ready to execute SQL queries.\n"
     ]
    }
   ],
   "source": [
    "import pandas as pd\n",
    "from sqlalchemy import create_engine, text\n",
    "\n",
    "# --- Configuration (Ensure these match your previous setup) ---\n",
    "DB_USER = \"postgres\"\n",
    "DB_PASS = \"etes1209111\"      # Use your confirmed password\n",
    "DB_HOST = \"127.0.0.1\"    \n",
    "DB_PORT = \"5432\"\n",
    "DB_NAME = \"nyc_taxi\"\n",
    "TABLE_NAME = \"taxi_trips\"\n",
    "\n",
    "# SQLAlchemy Connection String\n",
    "DATABASE_URL = f\"postgresql://{DB_USER}:{DB_PASS}@{DB_HOST}:{DB_PORT}/{DB_NAME}\"\n",
    "engine = create_engine(DATABASE_URL)\n",
    "\n",
    "print(\"✅ Database engine created. Ready to execute SQL queries.\")"
   ]
  },
  {
   "cell_type": "code",
   "execution_count": 3,
   "id": "37cd1f1e-ce80-412e-ac7b-770c358be5b9",
   "metadata": {},
   "outputs": [
    {
     "name": "stdout",
     "output_type": "stream",
     "text": [
      "✅ Updated financial NULLs with 0. Rows affected: 8772953\n"
     ]
    }
   ],
   "source": [
    "# A. Handle NULLs in Financial Metrics (Imputation with 0)\n",
    "sql_coalesce_financial = f\"\"\"\n",
    "UPDATE {TABLE_NAME}\n",
    "SET \n",
    "    tip_amount = COALESCE(tip_amount, 0),\n",
    "    airport_fee = COALESCE(airport_fee, 0),\n",
    "    congestion_surcharge = COALESCE(congestion_surcharge, 0),\n",
    "    fare_amount = COALESCE(fare_amount, 0),\n",
    "    total_amount = COALESCE(total_amount, 0);\n",
    "\"\"\"\n",
    "with engine.connect() as connection:\n",
    "    result = connection.execute(text(sql_coalesce_financial))\n",
    "    connection.commit()\n",
    "    print(f\"✅ Updated financial NULLs with 0. Rows affected: {result.rowcount}\")"
   ]
  },
  {
   "cell_type": "code",
   "execution_count": 4,
   "id": "5467ca39-54d9-4d35-b600-f8f9d140a127",
   "metadata": {},
   "outputs": [
    {
     "name": "stdout",
     "output_type": "stream",
     "text": [
      "✅ Updated payment_type NULLs with 99. Rows affected: 0\n"
     ]
    }
   ],
   "source": [
    "# B. Handle NULLs in Categorical Field (payment_type)\n",
    "sql_coalesce_payment = f\"\"\"\n",
    "UPDATE {TABLE_NAME}\n",
    "SET payment_type = 99 -- Use 99 for 'Unknown/Missing'\n",
    "WHERE payment_type IS NULL;\n",
    "\"\"\"\n",
    "with engine.connect() as connection:\n",
    "    result = connection.execute(text(sql_coalesce_payment))\n",
    "    connection.commit()\n",
    "    print(f\"✅ Updated payment_type NULLs with 99. Rows affected: {result.rowcount}\")"
   ]
  },
  {
   "cell_type": "code",
   "execution_count": 5,
   "id": "08d7e890-12a3-4587-899a-3e4cffef4ab6",
   "metadata": {},
   "outputs": [
    {
     "name": "stdout",
     "output_type": "stream",
     "text": [
      "✅ Passenger count outliers (set > 6 to 6). Rows affected: 14\n"
     ]
    }
   ],
   "source": [
    "# C. Outlier Check for Passenger Count (Capping at 6)\n",
    "sql_outlier_passengers = f\"\"\"\n",
    "UPDATE {TABLE_NAME}\n",
    "SET passenger_count = 6\n",
    "WHERE passenger_count > 6;\n",
    "\"\"\"\n",
    "with engine.connect() as connection:\n",
    "    result = connection.execute(text(sql_outlier_passengers))\n",
    "    connection.commit()\n",
    "    print(f\"✅ Passenger count outliers (set > 6 to 6). Rows affected: {result.rowcount}\")"
   ]
  },
  {
   "cell_type": "code",
   "execution_count": 10,
   "id": "9dd4a88d-01d5-4e82-8e08-5fe4a180d740",
   "metadata": {},
   "outputs": [
    {
     "name": "stdout",
     "output_type": "stream",
     "text": [
      "Executing Fix 1: Updating NULL rain_day...\n",
      "✅ rain_day NULLs fixed. Rows affected: 119\n",
      "Executing Fix 2: Deleting pre-2023 and post-Q1 data...\n",
      "✅ Out-of-scope dates deleted. Rows affected: 119\n",
      "\n",
      "Source taxi_trips table is now fully cleansed for modeling.\n"
     ]
    }
   ],
   "source": [
    "# --- Fix 1: Ensure rain_day has no NULLs ---\n",
    "sql_fix_rain_day = f\"\"\"\n",
    "UPDATE {TABLE_NAME}\n",
    "SET rain_day = 0\n",
    "WHERE rain_day IS NULL;\n",
    "\"\"\"\n",
    "\n",
    "# --- Fix 2: Delete out-of-scope dates ---\n",
    "sql_fix_date_range = f\"\"\"\n",
    "DELETE FROM {TABLE_NAME}\n",
    "WHERE pickup_date < '2023-01-01' OR pickup_date >= '2023-04-01';\n",
    "\"\"\"\n",
    "\n",
    "\n",
    "with engine.connect() as connection:\n",
    "    print(\"Executing Fix 1: Updating NULL rain_day...\")\n",
    "    result_rain = connection.execute(text(sql_fix_rain_day))\n",
    "    print(f\"✅ rain_day NULLs fixed. Rows affected: {result_rain.rowcount}\")\n",
    "\n",
    "    print(\"Executing Fix 2: Deleting pre-2023 and post-Q1 data...\")\n",
    "    result_date = connection.execute(text(sql_fix_date_range))\n",
    "    print(f\"✅ Out-of-scope dates deleted. Rows affected: {result_date.rowcount}\")\n",
    "    \n",
    "    connection.commit()\n",
    "    print(\"\\nSource taxi_trips table is now fully cleansed for modeling.\")"
   ]
  },
  {
   "cell_type": "code",
   "execution_count": 6,
   "id": "adeab3fd-197e-4fdf-9e61-b8051ceec1f5",
   "metadata": {},
   "outputs": [
    {
     "name": "stdout",
     "output_type": "stream",
     "text": [
      "✅ Updated weather NULLs with overall average (Max:9.77, Min:2.54, Precip:2.58). Rows affected: 119\n",
      "\n",
      "🎉 Final cleaning and standardization complete on the PostgreSQL server.\n"
     ]
    }
   ],
   "source": [
    "# D. Handle NULLs in Weather Dimensions (Imputation with average)\n",
    "# We assume max_temp, min_temp, and precipitation might be NULL if weather join failed for some records.\n",
    "# For simplicity, we'll replace with the *overall average* of each column.\n",
    "# Note: A more rigorous approach would use the average for that time of day/year.\n",
    "\n",
    "# First, calculate averages\n",
    "avg_temp_query = f\"\"\"\n",
    "SELECT AVG(max_temp), AVG(min_temp), AVG(precipitation) FROM {TABLE_NAME}\n",
    "WHERE max_temp IS NOT NULL;\n",
    "\"\"\"\n",
    "with engine.connect() as connection:\n",
    "    avg_results = connection.execute(text(avg_temp_query)).fetchone()\n",
    "    avg_max_temp = round(avg_results[0], 2)\n",
    "    avg_min_temp = round(avg_results[1], 2)\n",
    "    avg_precip = round(avg_results[2], 2)\n",
    "\n",
    "    sql_coalesce_weather = f\"\"\"\n",
    "    UPDATE {TABLE_NAME}\n",
    "    SET\n",
    "        max_temp = COALESCE(max_temp, {avg_max_temp}),\n",
    "        min_temp = COALESCE(min_temp, {avg_min_temp}),\n",
    "        precipitation = COALESCE(precipitation, {avg_precip})\n",
    "    WHERE max_temp IS NULL OR min_temp IS NULL OR precipitation IS NULL;\n",
    "    \"\"\"\n",
    "    result = connection.execute(text(sql_coalesce_weather))\n",
    "    connection.commit()\n",
    "    print(f\"✅ Updated weather NULLs with overall average (Max:{avg_max_temp}, Min:{avg_min_temp}, Precip:{avg_precip}). Rows affected: {result.rowcount}\")\n",
    "\n",
    "\n",
    "print(\"\\n🎉 Final cleaning and standardization complete on the PostgreSQL server.\")"
   ]
  },
  {
   "cell_type": "code",
   "execution_count": null,
   "id": "214928f4-f58e-494a-811e-73e139e5252a",
   "metadata": {},
   "outputs": [],
   "source": []
  }
 ],
 "metadata": {
  "kernelspec": {
   "display_name": "Python 3 (ipykernel)",
   "language": "python",
   "name": "python3"
  },
  "language_info": {
   "codemirror_mode": {
    "name": "ipython",
    "version": 3
   },
   "file_extension": ".py",
   "mimetype": "text/x-python",
   "name": "python",
   "nbconvert_exporter": "python",
   "pygments_lexer": "ipython3",
   "version": "3.13.5"
  }
 },
 "nbformat": 4,
 "nbformat_minor": 5
}
